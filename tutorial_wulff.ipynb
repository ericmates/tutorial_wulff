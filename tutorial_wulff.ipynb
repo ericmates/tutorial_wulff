{
 "cells": [
  {
   "cell_type": "markdown",
   "id": "ec28030f",
   "metadata": {},
   "source": [
    "<sub>This tutorial is partly based on the Doctoral thesis of Eric Mates-Torres, accessible [here](http://hdl.handle.net/2262/99344).</sub>\n",
    "\n",
    "# <center>From unit cell to nanoparticle: a comprehensive guide</center>\n",
    "<center>Eric Mates-Torres, Albert Rimola</center>\n",
    "\n",
    "## Introduction\n",
    "### Slab models\n",
    "One could argue that the physical definition of a molecule is relatively simple: a delimited cluster of bonded atoms, each characterised by a set of spatial coordinates. Representing a model of a molecule, therefore, is a conceptually straightforward task. Many atomic structures, however, are not molecules but _crystals_, large arrangements of atoms which are closely packed together and distributed in a patterned fashion, displaying motifs of a repeating unit (_unit cell_) throughout the structure. Due to the vast number of atoms forming the crystal (there are ca. 10<sup>18</sup> atoms in a grain of salt), it is usually more feasible to consider them not as an immense structure with an orderly distribution of atoms and defined edges surrounded by vacuum (a _cluster model_), but rather as an infinite surface with a given periodicity, which simplifies the calculations to study these materials.\n",
    "\n",
    "This surface structure can be constructed from a conventional unit cell (as shown in Figure 1 A, which is expanded into a (3×3×3) supercell—formed by 27 conventional unit cells—in Figure 1 B) by cleaving the crystal structure along a _(hkl)_ lattice plane (Figure 1 C) parallel to the terminating surface plane, and including a number of atomic layers within a set distance from this plane. To enable periodicity along the **â<sub>1</sub>** and **â<sub>2</sub>** directions, the surface structure is then aligned so that the vector orthogonal to the surface plane is parallel to **â<sub>3</sub>** ; furthermore, a vacuum is included along this axis to minimise the interactions between neighbouring unit cells in that direction. The resulting structure (Figure 1 D) is denoted as a surface _slab model_, which is periodic along 2 of the axes and is able to describe the geometry of the interface (as opposed to the _bulk model_ in Figure 1 A).\n",
    "</br>\n",
    "</br>\n",
    "<center>\n",
    "<div>\n",
    "<img src=\"https://i.postimg.cc/1tNq01vK/Image-from-Tutorial-Wulff-page-1.png\" width=\"600\"/>\n",
    "</div>\n",
    "</center>\n",
    "\n",
    "<sub>**Figure 1.** A) Representation of a conventional unit cell of a FCC crystal describing the bulk. B) (3×3×3) supercell of the unit cell in A). C) Slicing of the bulk along the _(111)_ lattice plane. D) Representation of an arbitrary slab model with periodicity _p_(4×4) which includes 3 atomic layers and a vacuum h, wherein the 111 vector is aligned with **â<sub>3</sub>**. It is worth mentioning that the slicing and generation of the slab is usually carried out with the unit cell; in this image, this is carried out with the (3×3×3) supercell for illustration purposes.</sub>\n",
    "\n",
    "### Wulff constructions\n",
    "An essential aspect to consider when simulating crystals representing nanoparticles is that, in reality, these structures usually expose not one, but many surface facets onto which chemical processes can occur. Therefore, an accurate assessment of these systems must start with a precise determination of the lattice planes that are likely to conform the nanoparticles, which will be inherently governed by their morphology.\n",
    "\n",
    "The concept of geometry in heterogeneous systems was first discussed by Willard Gibbs between 1875 to 1878. In his 1876 publication as part of the complete work On the Equilibrium of Heterogeneous Substances, he introduced the concept of **_neutral equilibrium_** to define the state at which a heterogeneous system, in contact with a liquid phase, **maximises the entropy and minimises the surface tension of the exposed facets**. Therefore, he theorised that as a particulate system approaches equilibrium, **it converges to a polyhedric structure displaying a limited number of lattice planes**, in crystallographic systems, represented by Miller indices _(hkl)_. The mathematical interpretation of this principle (the Gibbs–Wulff theorem) was later developed by George Wulff, who suggested that the shape of particles in neutral equilibrium can be envisioned as **the volume inside all crystal planes (hkl), at a distance _h<sub>hkl</sub>_ from the centre which is proportional to the surface energy of the lattice plane**:\n",
    "\n",
    "$$h_{hkl}=c \\cdot \\gamma_{hkl}$$\n",
    "\n",
    "Here, _c_ is an arbitrary constant, and $\\gamma_{hkl}$ is the surface energy of the plane, **the energy per unit area required to create a slab with a terminal lattice plane of Miller indices _(hkl)_ from a bulk structure of the crystal**:\n",
    "\n",
    "$$\\gamma_{hkl}=\\frac{E_{slab}-NE_{bulk}}{2A}$$\n",
    "\n",
    "Where $E_{slab}$ is the electronic energy of the slab, $E_{bulk}$ is the energy of the starting bulk material, 𝐴 is the area of the resulting slab, and 𝑁 is the number of bulk units included in the slab, also defined as $N=N^{slab}_{atoms}/N^{bulk}_{atoms}$.\n",
    "\n",
    "The equilibrium shape of the crystal particle is, therefore, **a function of the relative surface energies of all represented lattice planes**, and it can be constructed by only knowing the Miller indices of these planes and their surface energies (Figure 2 A). This methodology, known as a Wulff construction, yields 3-D polyhedrons with the same morphology as the nanoparticles defined by those Miller indices and surface energies (Figure 2 B), and allows us to predict, for a certain nanoparticle, **which surfaces will be exposed and may promote chemical processes**.\n",
    "</br>\n",
    "</br>\n",
    "<center>\n",
    "<div>\n",
    "<img src=\"https://i.postimg.cc/D0T8qJJ2/Image-from-Tutorial-Wulff-page-3.png\" width=\"500\"/>\n",
    "</div>\n",
    "</center>\n",
    "\n",
    "<sub>**Figure 2.** A) Representation of a Wulff construction for an arbitrary 2-D system, taking into account lattice planes with Miller indices _(100)_, _(010)_ and _(110)_. The equilibrium shape, given by the area delimited by the closest planes to the centre (O) at each point is represented in grey. B) Schematic representation of the equilibrium shape of a 3-D particle with surface energies of 1.10, 1.00 and 1.15 eV/Å<sup>2</sup> for lattice planes with Miller indices _(100)_, _(111)_ and _(110)_, respectively.</sub>\n",
    "\n",
    "## Practice\n",
    "Without further ado, we shall begin our journey to predict the shape of a given nanoparticle and build an atomic representation of how this nanoparticle will look like. This tutorial is divided in 4 steps:\n",
    "- Construction of the bulk structure of a metal and calculation of the bulk energy ($E_{bulk}$).\n",
    "- Generation of the surfaces with various Miller indices and calculation of the surface energy ($E_{slab}$).\n",
    "- Calculation of the surface energy ($\\gamma_{hkl}$) using the equation above.\n",
    "- Generation and visualization of the models for the Wulff construction and the atomic nanoparticle.\n",
    "\n",
    "We will achieve this by making use of the Atomic Simulation Environment and the Wulffpack python libraries (**run the snippets by clicking the _Run_ button at the top**). Although we will be using python throughout the session, no prior coding knowledge is required."
   ]
  },
  {
   "cell_type": "code",
   "execution_count": null,
   "id": "109e004c",
   "metadata": {},
   "outputs": [],
   "source": [
    "%matplotlib inline\n",
    "\n",
    "from ase.build import bulk            # This will be used to construct a bulk structure from a metal.\n",
    "from ase.visualize import view        # This will be used to view all atomic structures.\n",
    "from ase.calculators.emt import EMT   # This loads a parametrised potential to calculate the energy of Al, Ni, Cu, Pd, Ag, Pt and Au."
   ]
  },
  {
   "cell_type": "markdown",
   "id": "065dde87",
   "metadata": {},
   "source": [
    "\n",
    "Now that we have loaded all libraries, we have to build our bulk structure. Choose any of the metals accepted by our EMT potential: Al, Ni, Cu, Pd, Ag, Pt or Au. Then, we need to tell ASE that we want to build the bulk using the following line: \n",
    "```\n",
    "structure_bulk = bulk('M', 'fcc', a=X.XX, cubic=True)\n",
    "```\n",
    "Where M is the metal you have chosen, and X.XX is its lattice parameter. You can find the lattice parameters of most elements in [this webpage](https://periodictable.com/Properties/A/LatticeConstants.html). Try with your parameters and view the structure with the <code>view()</code> ASE function:\n"
   ]
  },
  {
   "cell_type": "code",
   "execution_count": null,
   "id": "5974eebf",
   "metadata": {},
   "outputs": [],
   "source": [
    "structure_bulk = bulk('M', 'fcc', a=X.XX, cubic=True)\n",
    "view(structure_bulk, viewer='ngl')"
   ]
  },
  {
   "cell_type": "markdown",
   "id": "a0323a0d",
   "metadata": {},
   "source": [
    "We now have the unit cell, our bulk structure. We are going to calculate its energy to obtain $E_{bulk}$ **(all energies are in eV)**, with the following option:"
   ]
  },
  {
   "cell_type": "code",
   "execution_count": null,
   "id": "816e6c71",
   "metadata": {},
   "outputs": [],
   "source": [
    "structure_bulk.calc = EMT()                        # In here we link our bulk structure with the calculation method we're going to use.\n",
    "E_bulk = structure_bulk.get_total_energy()     # This will calculate our energy and print it.\n",
    "\n",
    "print(E_bulk)"
   ]
  },
  {
   "cell_type": "markdown",
   "id": "a3bfbe3d",
   "metadata": {},
   "source": [
    "> _Q. Try changing the lattice parameter and calculating the energy again. Does it change? Why?_\n",
    "\n",
    "Now, we're going to generate the surfaces. To do that, we will use the <code>surface</code> function of ASE:\n",
    "```\n",
    "surface = surface(structure_bulk, (h,k,l), thickness)\n",
    "```\n",
    "Where h, k and l are the Miller indices of the surface we want to model. Choose (1,1,1) for now, and the thickness you want (it must be thick enough).\n"
   ]
  },
  {
   "cell_type": "code",
   "execution_count": null,
   "id": "edec90a5",
   "metadata": {},
   "outputs": [],
   "source": [
    "from ase.build import surface                           # Load the module to generate the surface.\n",
    "\n",
    "surface = surface(structure_bulk, (1,1,1), 9)"
   ]
  },
  {
   "cell_type": "markdown",
   "id": "9d95392d",
   "metadata": {},
   "source": [
    "However, our surface has no periodicity in the Z axis. To fix that, run the following command, which centres the slab in the cell and applies the specified vacuum at each side of the specified axis (X=0, Y=1, Z=2). Usually, a vacuum of 15 Å is used (7.5 Å on each side). Visualize the surface again after running this!\n",
    "> _Q. Why do we apply a vacuum in the Z axis?_"
   ]
  },
  {
   "cell_type": "code",
   "execution_count": null,
   "id": "ecd494a2",
   "metadata": {},
   "outputs": [],
   "source": [
    "surface.center(vacuum=7.5, axis=2)"
   ]
  },
  {
   "cell_type": "markdown",
   "id": "3a513683",
   "metadata": {},
   "source": [
    "Visualize the structure by using the <code>view(xyz, viewer='x3d')</code> function as before."
   ]
  },
  {
   "cell_type": "code",
   "execution_count": null,
   "id": "fab44c41",
   "metadata": {},
   "outputs": [],
   "source": [
    "view(surface, viewer='ngl')                  # Use the view function here if you wish to view the surface."
   ]
  },
  {
   "cell_type": "markdown",
   "id": "a5f65821",
   "metadata": {},
   "source": [
    "Or, you can view the surface replicated along the X and Y axes:"
   ]
  },
  {
   "cell_type": "code",
   "execution_count": null,
   "id": "e4d595b8",
   "metadata": {},
   "outputs": [],
   "source": [
    "view(surface, viewer='ngl', repeat=(4, 4, 1))"
   ]
  },
  {
   "cell_type": "markdown",
   "id": "41a09bab",
   "metadata": {},
   "source": [
    "Now, calculate the energy of the generated (1,1,1) surface using the same method as when we calculated the energy of the bulk (linking 'structure' to the EMT the calculation method, getting the potential energy and printing it)."
   ]
  },
  {
   "cell_type": "code",
   "execution_count": null,
   "id": "5de72e97",
   "metadata": {},
   "outputs": [],
   "source": [
    "surface.calc = EMT()                        # In here we link our bulk structure with the calculation method we're going to use.\n",
    "E_surface = surface.get_total_energy()      # This will calculate our energy and print it.\n",
    "\n",
    "print(E_surface)                            # Calculate the energy of the (1,1,1) slab here."
   ]
  },
  {
   "cell_type": "markdown",
   "id": "e244c288",
   "metadata": {},
   "source": [
    "To obtain the surface energy, we only need the area of the slab (A). You can obtain the value for the area (in $Å^2$) and the value for N in the surface energy equation with this code:"
   ]
  },
  {
   "cell_type": "code",
   "execution_count": null,
   "id": "fc322e9e",
   "metadata": {},
   "outputs": [],
   "source": [
    "area = surface.get_cell()[0][0]*surface.get_cell()[1][1]\n",
    "n = len(surface)/len(structure_bulk)\n",
    "print('Area:', area)\n",
    "print('N:', n)"
   ]
  },
  {
   "cell_type": "markdown",
   "id": "0e355682",
   "metadata": {},
   "source": [
    "Then, calculate $\\gamma_{hkl}$, taking into account the definition of N (bulk units inside the slab) and the Area:"
   ]
  },
  {
   "cell_type": "code",
   "execution_count": null,
   "id": "92422214",
   "metadata": {},
   "outputs": [],
   "source": [
    "gamma = (E_surface - n*E_bulk)/(2*area)\n",
    "print(gamma)"
   ]
  },
  {
   "cell_type": "markdown",
   "id": "d8a0941b",
   "metadata": {},
   "source": [
    "If we want to build a Wulff construction, we need the surface energies of a bunch of Miller indices, such as _(1,0,0)_, _(1,1,0)_, _(2,1,0)_, etc. Ideally, you should analyse the surface energies of all the planes that might be present in the nanoparticle, taking into account that for a FCC metal, $\\gamma_{100}=\\gamma_{010}=\\gamma_{001}$ (try to avoid redundant calculations). Once you have a large enough database of surface energies (around 7 to 10 planes will suffice), we are ready to build the Wulff construction.\n",
    "\n",
    "To do that, we will first load the corresponding libraries:"
   ]
  },
  {
   "cell_type": "code",
   "execution_count": null,
   "id": "212c3958",
   "metadata": {},
   "outputs": [],
   "source": [
    "%matplotlib inline\n",
    "from wulffpack import SingleCrystal        # To generate the Wulff construction."
   ]
  },
  {
   "cell_type": "markdown",
   "id": "fc17fd04",
   "metadata": {},
   "source": [
    "Then, we need to generate a dictionary variable with our surface energies (in eV Å<sup>–2</sup> or in J m<sup>–2</sup>):"
   ]
  },
  {
   "cell_type": "code",
   "execution_count": 30,
   "id": "00db139d",
   "metadata": {},
   "outputs": [],
   "source": [
    "surface_energies = {(1, 0, 0): 0.9,        # Modify with your studied Miller indices and their surface energies.\n",
    "                    (1, 1, 1): 0.9,\n",
    "                    (1, 1, 0): 1,\n",
    "                    (1, 0, 1): 1,\n",
    "                    (0, 1, 0): 0.9,\n",
    "                    (0, 0, 1): 0.9,\n",
    "                   }"
   ]
  },
  {
   "cell_type": "markdown",
   "id": "96ec10b4",
   "metadata": {},
   "source": [
    "Next, we can build the _particle_ variable that will define our Wulff construction. If we specify the number of atoms we want our nanoparticle to have using the _natoms_ keyword, we will be able to visualize our particle with the shape later. After building the particle, we can visualize it with the <code>particle.view()</code> command."
   ]
  },
  {
   "cell_type": "code",
   "execution_count": null,
   "id": "5ef02748",
   "metadata": {},
   "outputs": [],
   "source": [
    "particle = SingleCrystal(\n",
    "                         surface_energies,                      # Our dictionary containing all Miller indices and surface energies.\n",
    "                         primitive_structure=structure_bulk,    # We need to specify the bulk structure.\n",
    "                         natoms=200                             # How many atoms we want our nanoparticle to have.\n",
    "                        )\n",
    "\n",
    "particle.view()                                                 # View the Wulff construction."
   ]
  },
  {
   "cell_type": "markdown",
   "id": "eedf75fa",
   "metadata": {},
   "source": [
    "You can try changing the surface energies and relate it to the shrinking and enlarging of a given facet.\n",
    "\n",
    "To generate the atomic nanoparticle with the specified number of atoms (200 in the box above, try changing it to any other number –with 10,000 atoms you will see all surfaces perfectly), you can use the following command:"
   ]
  },
  {
   "cell_type": "code",
   "execution_count": null,
   "id": "b8d70d84",
   "metadata": {},
   "outputs": [],
   "source": [
    "view(particle.atoms, viewer='ngl')"
   ]
  },
  {
   "cell_type": "markdown",
   "id": "22aa23d3",
   "metadata": {},
   "source": [
    "Given our nanoparticle construction, it is also relevant to calculate the total **area and surface energy** of the cluster, along with the **fractional compositions** of each facet type, among others. For this, you can use the following commands:"
   ]
  },
  {
   "cell_type": "code",
   "execution_count": null,
   "id": "155d08f6",
   "metadata": {},
   "outputs": [],
   "source": [
    "print('Area:', particle.area)  # Plots the total area of the nanoparticle, in Å2.\n",
    "print('Volume:', particle.volume)  # Plots the total volume inside the nanoparticle, in Å3.\n",
    "print('Fraction of {100} facets:', particle.facet_fractions.get((1, 0, 0), 0.))  # Plots the fraction of (1,0,0) facets; change to whichever facet you want to assess.\n",
    "print('Total surface energy:', particle.surface_energy)  # Total surface energy.\n",
    "print('Average surface energy:', particle.average_surface_energy)  # Average surface energy (in whichever units we chose) of all facets.\n",
    "print(particle.number_of_corners, 'corners, edge length:', particle.edge_length)"
   ]
  },
  {
   "cell_type": "markdown",
   "id": "d7d33e87",
   "metadata": {},
   "source": [
    "Try to change the surface energies of each facet and assess its effect on the parameters of the final nanoparticle."
   ]
  },
  {
   "cell_type": "code",
   "execution_count": null,
   "id": "14c10f76",
   "metadata": {},
   "outputs": [],
   "source": []
  }
 ],
 "metadata": {
  "kernelspec": {
   "display_name": "myenv2",
   "language": "python",
   "name": "myenv2"
  },
  "language_info": {
   "codemirror_mode": {
    "name": "ipython",
    "version": 3
   },
   "file_extension": ".py",
   "mimetype": "text/x-python",
   "name": "python",
   "nbconvert_exporter": "python",
   "pygments_lexer": "ipython3",
   "version": "3.9.13"
  }
 },
 "nbformat": 4,
 "nbformat_minor": 5
}
